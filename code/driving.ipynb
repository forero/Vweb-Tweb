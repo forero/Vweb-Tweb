{
 "metadata": {
  "name": ""
 },
 "nbformat": 3,
 "nbformat_minor": 0,
 "worksheets": [
  {
   "cells": [
    {
     "cell_type": "code",
     "collapsed": false,
     "input": [
      "%pylab inline"
     ],
     "language": "python",
     "metadata": {},
     "outputs": [
      {
       "output_type": "stream",
       "stream": "stdout",
       "text": [
        "Populating the interactive namespace from numpy and matplotlib\n"
       ]
      }
     ],
     "prompt_number": 8
    },
    {
     "cell_type": "code",
     "collapsed": false,
     "input": [
      "cat ../data/README"
     ],
     "language": "python",
     "metadata": {},
     "outputs": [
      {
       "output_type": "stream",
       "stream": "stdout",
       "text": [
        "\r\n",
        "Estructura de cada archivo\r\n",
        "       mu_{30%}, mu_{-30%}, sigma mu_{-30%}, sigma mu_{-30%}, mu_{100%}, sigma mu_{100%}\r\n",
        "Ax-V\r\n",
        "Ax-T\r\n",
        "J-V\r\n",
        "J-T\r\n",
        "v-V\r\n",
        "v-T\r\n"
       ]
      }
     ],
     "prompt_number": 9
    },
    {
     "cell_type": "code",
     "collapsed": false,
     "input": [
      "#all the alignments refer to the first eigenvector \n",
      "AX_V_COL=0 # major axis with Vweb\n",
      "AX_T_COL=1 # major axis with Tweb\n",
      "J_V_COL=2 # angular momentum with Vweb\n",
      "J_T_COL=3 # angular momentum with Tweb\n",
      "V_V_COL=4 # halo velocity with Tweb\n",
      "V_T_COL=5 # halo velocity with Tweb"
     ],
     "language": "python",
     "metadata": {},
     "outputs": [],
     "prompt_number": 126
    },
    {
     "cell_type": "code",
     "collapsed": false,
     "input": [
      "labels = [\"$\\mathrm{Vweb - Major\\ axis}$\", \n",
      "          \"$\\mathrm{Tweb - Major\\ axis}$\",\n",
      "          \"$\\mathrm{Vweb - Angular\\ momentum}$\",\n",
      "          \"$\\mathrm{Tweb - Angular\\ momentum}$\",\n",
      "          \"$\\mathrm{Vweb - Peculiar\\ velocity}$\",\n",
      "          \"$\\mathrm{Tweb - Peculiar\\ velocity}$\"]\n",
      "filenames=[\"ax_V_cut\", \"ax_T_cut\", \"J_V_cut\", \"J_T_cut\", \"v_V_cut\", \"v_T_cut\"]"
     ],
     "language": "python",
     "metadata": {},
     "outputs": [],
     "prompt_number": 175
    },
    {
     "cell_type": "code",
     "collapsed": false,
     "input": [
      "def extract_across(MY_col, circ_cut=zeros((6,6)), conc_cut=zeros((6,6)), \n",
      "                   dens_cut=zeros((6,6)), spin_cut=zeros((6,6)), tri_cut=zeros((6,6))):\n",
      "    \"\"\"\n",
      "    Collects all the information for the different tests into a single\n",
      "    matrix where all the information for the same alignment and different\n",
      "    cuts is collected.\n",
      "    \"\"\"\n",
      "    mu_high30_col = 0\n",
      "    mu_low30_col = 1\n",
      "    mu_all_col = 4\n",
      "    mu_data = zeros((5,3))\n",
      "    mu_data[0,0] = circ_cut[MY_col, mu_high30_col]\n",
      "    mu_data[0,1] = circ_cut[MY_col, mu_low30_col]\n",
      "    mu_data[0,2] = circ_cut[MY_col, mu_all_col] \n",
      "\n",
      "    mu_data[1,0] = conc_cut[MY_col, mu_high30_col]\n",
      "    mu_data[1,1] = conc_cut[MY_col, mu_low30_col]\n",
      "    mu_data[1,2] = conc_cut[MY_col, mu_all_col] \n",
      "\n",
      "    mu_data[2,0] = dens_cut[MY_col, mu_high30_col]\n",
      "    mu_data[2,1] = dens_cut[MY_col, mu_low30_col]\n",
      "    mu_data[2,2] = dens_cut[MY_col, mu_all_col] \n",
      "\n",
      "    mu_data[3,0] = spin_cut[MY_col, mu_high30_col]\n",
      "    mu_data[3,1] = spin_cut[MY_col, mu_low30_col]\n",
      "    mu_data[3,2] = spin_cut[MY_col, mu_all_col] \n",
      "\n",
      "    mu_data[4,0] = tri_cut[MY_col, mu_high30_col]\n",
      "    mu_data[4,1] = tri_cut[MY_col, mu_low30_col]\n",
      "    mu_data[4,2] = tri_cut[MY_col, mu_all_col]\n",
      "    return mu_data"
     ],
     "language": "python",
     "metadata": {},
     "outputs": [],
     "prompt_number": 176
    },
    {
     "cell_type": "code",
     "collapsed": false,
     "input": [
      "resolution = 512\n",
      "circ_cut_512 = loadtxt(\"../data/mu_cuts_circ_%d.dat\"%(resolution))\n",
      "conc_cut_512 = loadtxt(\"../data/mu_cuts_conc_%d.dat\"%(resolution))\n",
      "dens_cut_512 = loadtxt(\"../data/mu_cuts_dens_%d.dat\"%(resolution))\n",
      "spin_cut_512 = loadtxt(\"../data/mu_cuts_spin_%d.dat\"%(resolution))\n",
      "tri_cut_512 = loadtxt(\"../data/mu_cuts_tri_%d.dat\"%(resolution))\n",
      "\n",
      "resolution = 256\n",
      "circ_cut_256 = loadtxt(\"../data/mu_cuts_circ_%d.dat\"%(resolution))\n",
      "conc_cut_256 = loadtxt(\"../data/mu_cuts_conc_%d.dat\"%(resolution))\n",
      "dens_cut_256 = loadtxt(\"../data/mu_cuts_dens_%d.dat\"%(resolution))\n",
      "spin_cut_256 = loadtxt(\"../data/mu_cuts_spin_%d.dat\"%(resolution))\n",
      "tri_cut_256 = loadtxt(\"../data/mu_cuts_tri_%d.dat\"%(resolution))"
     ],
     "language": "python",
     "metadata": {},
     "outputs": [],
     "prompt_number": 177
    },
    {
     "cell_type": "code",
     "collapsed": false,
     "input": [
      "font = {'size':17}\n",
      "matplotlib.rc('font', **font)"
     ],
     "language": "python",
     "metadata": {},
     "outputs": [],
     "prompt_number": 178
    },
    {
     "cell_type": "code",
     "collapsed": false,
     "input": [
      "def plot_alignment(column=0, location=0, resolutions=0):\n",
      "    to_plot_512 = extract_across(column, circ_cut=circ_cut_512, conc_cut=conc_cut_512,\n",
      "                                dens_cut=dens_cut_512, spin_cut=spin_cut_512, tri_cut=tri_cut_512)\n",
      "    to_plot_256 = extract_across(column, circ_cut=circ_cut_256, conc_cut=conc_cut_256,\n",
      "                                dens_cut=dens_cut_256, spin_cut=spin_cut_256, tri_cut=tri_cut_256)\n",
      "\n",
      "    fig = figure(1, figsize=(9.8,6.5))\n",
      "    ax = axes()\n",
      "    ax.set_ylim([0.44,0.56])\n",
      "    ax.set_ylabel(r\"$\\langle|\\cos(\\theta)|\\rangle$\",fontsize=25)\n",
      "    ticklabels_x = ax.get_xticklabels()\n",
      "    ticklabels_y = ax.get_yticklabels()\n",
      "    for label_x in ticklabels_x:\n",
      "        label_x.set_fontsize(25)\n",
      "        label_x.set_family('serif')\n",
      "    for label_y in ticklabels_y:\n",
      "        label_y.set_fontsize(25)\n",
      "        label_y.set_family('serif')\n",
      "    \n",
      "    scatter(arange(5)-0.1,to_plot_256[:,2], marker='s', s=250, label=\"$\\mathrm{All\\ halos}$\", c='black', alpha=0.5)\n",
      "    scatter(arange(5)-0.1,to_plot_256[:,0], marker='^', s=250, label=\"$\\mathrm{upper}\\ 30\\%$\", c='black', alpha=0.5)\n",
      "    scatter(arange(5)-0.1,to_plot_256[:,1], marker='v', s=250, label=\"$\\mathrm{lower}\\ 30\\%$\", c='black', alpha=0.5)\n",
      "    if(location>=0):\n",
      "        legend(numpoints=1,scatterpoints=2, loc=location)\n",
      "    scatter(arange(5)+0.1,to_plot_512[:,2], marker='s', s=250, label=\"$\\mathrm{All\\ halos}$\", c='black', alpha=0.5)\n",
      "    scatter(arange(5)+0.1,to_plot_512[:,0], marker='^', s=250, label=\"$\\mathrm{upper}\\ 30\\%$\", c='black', alpha=0.5)\n",
      "    scatter(arange(5)+0.1,to_plot_512[:,1], marker='v', s=250, label=\"$\\mathrm{lower}\\ 30\\%$\", c='black', alpha=0.5)\n",
      "  #  legend(numpoints=1,scatterpoints=1, loc=3)\n",
      "    \n",
      "    p = plt.axhspan(0.495, 0.505, facecolor='0.5', alpha=0.3)\n",
      "\n",
      "    plt.xticks(arange(5), ('circ.', 'conc.', 'dens.', 'spin', 'triax.') )\n",
      "    if(resolutions):\n",
      "        ax.text(1.5, 0.55, labels[column], fontsize=25)\n",
      "    else:\n",
      "        ax.text(1.5, 0.541, labels[column]+\"\\n$\\mathrm{Resolutions\\ 256^3\\ and\\ 512^3}$\", fontsize=25)\n",
      "\n",
      "    savefig(filenames[column] + '.eps',format = 'eps', transparent=True)\n",
      "    savefig(filenames[column] + '.pdf',format = 'pdf', transparent=True)\n",
      "    savefig(filenames[column] + '.png',format = 'png', transparent=True)\n",
      "    close()"
     ],
     "language": "python",
     "metadata": {},
     "outputs": [],
     "prompt_number": 189
    },
    {
     "cell_type": "code",
     "collapsed": false,
     "input": [
      "plot_alignment(column=AX_V_COL, location=3)\n",
      "plot_alignment(column=AX_T_COL, location=3)\n",
      "plot_alignment(column=J_V_COL, location=2, resolutions=1)\n",
      "plot_alignment(column=J_T_COL, location=2, resolutions=1)\n",
      "plot_alignment(column=V_V_COL, location=2, resolutions=1)\n",
      "plot_alignment(column=V_T_COL, location=2, resolutions=1)"
     ],
     "language": "python",
     "metadata": {},
     "outputs": [],
     "prompt_number": 190
    },
    {
     "cell_type": "code",
     "collapsed": false,
     "input": [],
     "language": "python",
     "metadata": {},
     "outputs": []
    }
   ],
   "metadata": {}
  }
 ]
}