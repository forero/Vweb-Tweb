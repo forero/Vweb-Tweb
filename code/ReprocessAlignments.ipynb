{
 "metadata": {
  "name": ""
 },
 "nbformat": 3,
 "nbformat_minor": 0,
 "worksheets": [
  {
   "cells": [
    {
     "cell_type": "code",
     "collapsed": false,
     "input": [
      "%pylab inline"
     ],
     "language": "python",
     "metadata": {},
     "outputs": [
      {
       "output_type": "stream",
       "stream": "stdout",
       "text": [
        "Populating the interactive namespace from numpy and matplotlib\n"
       ]
      }
     ],
     "prompt_number": 10
    },
    {
     "cell_type": "code",
     "collapsed": false,
     "input": [
      "FOF_data = loadtxt(\"/home/forero/work/data/VwebTweb/FOF.txt\")"
     ],
     "language": "python",
     "metadata": {},
     "outputs": [],
     "prompt_number": 2
    },
    {
     "cell_type": "code",
     "collapsed": false,
     "input": [
      "web_type = \"T\"\n",
      "web_resolution = 256\n",
      "web_filename = \"/home/forero/work/data/VwebTweb/%s%d.txt\"%(web_type, web_resolution)"
     ],
     "language": "python",
     "metadata": {},
     "outputs": [],
     "prompt_number": 18
    },
    {
     "cell_type": "code",
     "collapsed": false,
     "input": [
      "web_data = loadtxt(web_filename)"
     ],
     "language": "python",
     "metadata": {},
     "outputs": [],
     "prompt_number": 19
    },
    {
     "cell_type": "markdown",
     "metadata": {},
     "source": [
      "The procedure is the following:\n",
      "\n",
      "1. Select an alignment to measure\n",
      "\n",
      "2. Select a mass range\n",
      "\n",
      "3. Take the dot product with (mu) the three eigenvectors\n",
      "\n",
      "4. Count the numbers of halos with mu_1^2 > mu_2^2 and mu_1^2 > mu_3^2 (alignment with eigen_1)\n",
      "  Count the numbers of halos with mu_2^2 > mu_1^2 and mu_2^2 > mu_3^2 (alignment with eigen_2)\n",
      "  Count the numbers of halos with mu_3^2 > mu_1^2 and mu_3^2 > mu_2^2 (alignment with eigen_3)"
     ]
    },
    {
     "cell_type": "code",
     "collapsed": false,
     "input": [
      "FOF_HALO_ID = 0 \n",
      "FOF_V_X = 7\n",
      "FOF_V_Y = 8\n",
      "FOF_V_Z = 9\n",
      "FOF_J_X = 15\n",
      "FOF_J_Y = 16\n",
      "FOF_J_Z = 17\n",
      "FOF_SHAPE_X = 22\n",
      "FOF_SHAPE_Y = 23\n",
      "FOF_SHAPE_Z = 24\n",
      "FOF_MASS = 11\n",
      "# the shape vector corresponds to the major axis of the inertia momentum tensor"
     ],
     "language": "python",
     "metadata": {},
     "outputs": [],
     "prompt_number": 20
    },
    {
     "cell_type": "code",
     "collapsed": false,
     "input": [
      "log_fof_mass = log10(FOF_data[:,FOF_MASS])"
     ],
     "language": "python",
     "metadata": {},
     "outputs": [],
     "prompt_number": 24
    },
    {
     "cell_type": "code",
     "collapsed": false,
     "input": [
      "min(log_fof_mass), max(log_fof_mass)"
     ],
     "language": "python",
     "metadata": {},
     "outputs": [
      {
       "metadata": {},
       "output_type": "pyout",
       "prompt_number": 25,
       "text": [
        "(9.4378282185086881, 15.031670981557399)"
       ]
      }
     ],
     "prompt_number": 25
    },
    {
     "cell_type": "code",
     "collapsed": false,
     "input": [
      "log_mass_bins = linspace(10.0,15.0,6)\n",
      "print log_mass_bins"
     ],
     "language": "python",
     "metadata": {},
     "outputs": [
      {
       "output_type": "stream",
       "stream": "stdout",
       "text": [
        "[ 10.  11.  12.  13.  14.  15.]\n"
       ]
      }
     ],
     "prompt_number": 29
    },
    {
     "cell_type": "code",
     "collapsed": false,
     "input": [],
     "language": "python",
     "metadata": {},
     "outputs": []
    }
   ],
   "metadata": {}
  }
 ]
}