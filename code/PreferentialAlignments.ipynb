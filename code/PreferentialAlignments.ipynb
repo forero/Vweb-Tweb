{
 "metadata": {
  "name": ""
 },
 "nbformat": 3,
 "nbformat_minor": 0,
 "worksheets": [
  {
   "cells": [
    {
     "cell_type": "code",
     "collapsed": false,
     "input": [
      "%pylab inline"
     ],
     "language": "python",
     "metadata": {},
     "outputs": [
      {
       "output_type": "stream",
       "stream": "stdout",
       "text": [
        "Populating the interactive namespace from numpy and matplotlib\n"
       ]
      }
     ],
     "prompt_number": 1
    },
    {
     "cell_type": "code",
     "collapsed": false,
     "input": [
      "FOF_data = loadtxt(\"/home/forero/work/data/VwebTweb/FOF.txt\")"
     ],
     "language": "python",
     "metadata": {},
     "outputs": [],
     "prompt_number": 2
    },
    {
     "cell_type": "markdown",
     "metadata": {},
     "source": [
      "The procedure is the following:\n",
      "\n",
      "1. Select a halo vector property\n",
      "\n",
      "2. Select a mass range\n",
      "\n",
      "3. Take the dot product with (mu) the three eigenvectors\n",
      "\n",
      "4. Count the numbers of halos with mu_1^2 > mu_2^2 and mu_1^2 > mu_3^2 (alignment with eigen_1)\n",
      "  Count the numbers of halos with mu_2^2 > mu_1^2 and mu_2^2 > mu_3^2 (alignment with eigen_2)\n",
      "  Count the numbers of halos with mu_3^2 > mu_1^2 and mu_3^2 > mu_2^2 (alignment with eigen_3)"
     ]
    },
    {
     "cell_type": "code",
     "collapsed": false,
     "input": [
      "FOF_HALO_ID = 0 \n",
      "FOF_V_X = 7\n",
      "FOF_V_Y = 8\n",
      "FOF_V_Z = 9\n",
      "FOF_J_X = 15\n",
      "FOF_J_Y = 16\n",
      "FOF_J_Z = 17\n",
      "FOF_SHAPE_X = 22\n",
      "FOF_SHAPE_Y = 23\n",
      "FOF_SHAPE_Z = 24\n",
      "FOF_MASS = 11\n",
      "\n",
      "WEB_HALO_ID=0\n",
      "WEB_EIGEN1_X = 1\n",
      "WEB_EIGEN1_Y = 2\n",
      "WEB_EIGEN1_Z = 3\n",
      "WEB_EIGEN2_X = 4\n",
      "WEB_EIGEN2_Y = 5\n",
      "WEB_EIGEN2_Z = 6\n",
      "WEB_EIGEN3_X = 7\n",
      "WEB_EIGEN3_Y = 8\n",
      "WEB_EIGEN3_Z = 9\n",
      "# the shape vector corresponds to the major axis of the inertia momentum tensor"
     ],
     "language": "python",
     "metadata": {},
     "outputs": [],
     "prompt_number": 3
    },
    {
     "cell_type": "code",
     "collapsed": false,
     "input": [
      "def get_mu_eigen(id_data, vec_x, vec_y, vec_z, web_raw_data, eigenvec=0):\n",
      "    tmp_vec_x = vec_x[id_data]\n",
      "    tmp_vec_y = vec_y[id_data]\n",
      "    tmp_vec_z = vec_z[id_data]\n",
      "    if(eigenvec==1):\n",
      "        tmp_web_x = web_raw_data[id_data,WEB_EIGEN1_X]\n",
      "        tmp_web_y = web_raw_data[id_data,WEB_EIGEN1_Y]\n",
      "        tmp_web_z = web_raw_data[id_data,WEB_EIGEN1_Z]\n",
      "    if(eigenvec==2):\n",
      "        tmp_web_x = web_raw_data[id_data,WEB_EIGEN2_X]\n",
      "        tmp_web_y = web_raw_data[id_data,WEB_EIGEN2_Y]\n",
      "        tmp_web_z = web_raw_data[id_data,WEB_EIGEN2_Z]\n",
      "    if(eigenvec==3):\n",
      "        tmp_web_x = web_raw_data[id_data,WEB_EIGEN3_X]\n",
      "        tmp_web_y = web_raw_data[id_data,WEB_EIGEN3_Y]\n",
      "        tmp_web_z = web_raw_data[id_data,WEB_EIGEN3_Z]\n",
      "        \n",
      "    mu_data = tmp_vec_x*tmp_web_x + tmp_vec_y*tmp_web_y + tmp_vec_z*tmp_web_z\n",
      "    return mu_data\n"
     ],
     "language": "python",
     "metadata": {},
     "outputs": [],
     "prompt_number": 4
    },
    {
     "cell_type": "code",
     "collapsed": false,
     "input": [
      "def get_eigen_preference(mu_1, mu_2, mu_3):\n",
      "    id1 = where((mu_1**2 > mu_2**2) & (mu_1**2 > mu_3**2))\n",
      "    id2 = where((mu_2**2 > mu_1**2) & (mu_2**2 > mu_3**2))\n",
      "    id3 = where((mu_3**2 > mu_2**2) & (mu_3**2 > mu_1**2))\n",
      "    n1 = size(id1)\n",
      "    n2 = size(id2)\n",
      "    n3 = size(id3)\n",
      "    return n1, n2, n3"
     ],
     "language": "python",
     "metadata": {},
     "outputs": [],
     "prompt_number": 5
    },
    {
     "cell_type": "code",
     "collapsed": false,
     "input": [
      "def get_preferential_alignment(halo_data, web_data, web_type, web_resolution, alignment=\"SHAPE\"):\n",
      "    log_fof_mass = log10(halo_data[:,FOF_MASS])\n",
      "    log_mass_bins = linspace(9.5,15.0,12)\n",
      "    min_mass_bin = log_mass_bins[:-1]\n",
      "    max_mass_bin = log_mass_bins[1:]\n",
      "    n_bins = size(min_mass_bin)\n",
      "    \n",
      "    if(alignment==\"SHAPE\"):\n",
      "        halo_vec = array([FOF_SHAPE_X, FOF_SHAPE_Y, FOF_SHAPE_Z])\n",
      "    elif(alignment==\"V\"):\n",
      "        halo_vec = array([FOF_V_X, FOF_V_Y, FOF_V_Z])\n",
      "    elif(alignment==\"J\"):\n",
      "        halo_vec = array([FOF_J_X, FOF_J_Y, FOF_J_Z])\n",
      "        \n",
      "    vec_halo_data_x = halo_data[:,halo_vec[0]]\n",
      "    vec_halo_data_y = halo_data[:,halo_vec[1]]\n",
      "    vec_halo_data_z = halo_data[:,halo_vec[2]]\n",
      "    outputfilename=\"../data/preferential_%sweb%d_halo_%s.dat\"%(web_type, web_resolution, alignment)\n",
      "    out = open(outputfilename, \"w\")\n",
      "    for i in range(n_bins):\n",
      "        id_mass = where((log_fof_mass > min_mass_bin[i]) & (log_fof_mass < max_mass_bin[i]))\n",
      "        id_mass = id_mass[0]\n",
      "    \n",
      "        mu_eigen1 = get_mu_eigen(id_mass, vec_halo_data_x, vec_halo_data_y, vec_halo_data_z, web_data, eigenvec=1)\n",
      "        mu_eigen2 = get_mu_eigen(id_mass, vec_halo_data_x, vec_halo_data_y, vec_halo_data_z, web_data, eigenvec=2)\n",
      "        mu_eigen3 = get_mu_eigen(id_mass, vec_halo_data_x, vec_halo_data_y, vec_halo_data_z, web_data, eigenvec=3)\n",
      "    \n",
      "        n_eigen1, n_eigen2, n_eigen3 = get_eigen_preference(mu_eigen1, mu_eigen2, mu_eigen3)\n",
      "        n_tot = n_eigen1 + n_eigen2 + n_eigen3\n",
      "        out.write(\"%.2f %d %d %d %d\\n\"%(min_mass_bin[i], n_eigen1, n_eigen2, n_eigen3, n_tot))\n",
      "    out.close()"
     ],
     "language": "python",
     "metadata": {},
     "outputs": [],
     "prompt_number": 6
    },
    {
     "cell_type": "code",
     "collapsed": false,
     "input": [
      "web_types = [\"V\", \"T\"]\n",
      "web_resolutions = [256,512]\n",
      "for web_type in web_types:\n",
      "    for web_resolution in web_resolutions:\n",
      "        web_filename = \"/home/forero/work/data/VwebTweb/%s%d.txt\"%(web_type, web_resolution)\n",
      "        raw_web_data = loadtxt(web_filename)\n",
      "        get_preferential_alignment(FOF_data, raw_web_data, web_type, web_resolution, alignment=\"SHAPE\")\n",
      "        get_preferential_alignment(FOF_data, raw_web_data, web_type, web_resolution, alignment=\"V\")\n",
      "        get_preferential_alignment(FOF_data, raw_web_data, web_type, web_resolution, alignment=\"J\")"
     ],
     "language": "python",
     "metadata": {},
     "outputs": [],
     "prompt_number": 7
    }
   ],
   "metadata": {}
  }
 ]
}